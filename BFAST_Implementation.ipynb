{
 "cells": [
  {
   "cell_type": "markdown",
   "id": "a1c6943e-8b9d-4e3f-a5dc-b8fef73e9bc8",
   "metadata": {
    "jupyter": {
     "outputs_hidden": true
    },
    "tags": []
   },
   "source": [
    "# BFAST Impleentation\n",
    "\n",
    "## Package installation "
   ]
  },
  {
   "cell_type": "code",
   "execution_count": null,
   "id": "f9ddcde5-5c11-4147-be37-d32fff851bd8",
   "metadata": {},
   "outputs": [],
   "source": [
    "pkgTest <- function(x)\n",
    "{\n",
    "  if (x %in% rownames(installed.packages()) == FALSE) {\n",
    "    install.packages(x, dependencies= TRUE)\n",
    "  }\n",
    "  library(x, character.only = TRUE)\n",
    "}\n",
    "neededPackages <- c(\"zoo\", \"bfast\", \"terra\", \"raster\",\"dplyr\")\n",
    "for (package in neededPackages){pkgTest(package)}"
   ]
  },
  {
   "cell_type": "markdown",
   "id": "ffc29f3e-6b5f-4fa7-a740-4a0e8382b125",
   "metadata": {},
   "source": [
    "## Create function to read data as time series"
   ]
  },
  {
   "cell_type": "code",
   "execution_count": 3,
   "id": "cd93b32f-5e02-4ff9-b1ee-2ab1797e0be6",
   "metadata": {
    "tags": []
   },
   "outputs": [],
   "source": [
    "timeser <- function(val_array, time_array) {\n",
    "    \n",
    "    z <- zoo(val_array, time_array) # create zoo object\n",
    "    \n",
    "    year <- as.numeric(format(time(z), \"%Y\")) \n",
    "    Week <- as.numeric(format(time(z), \"%W\"))\n",
    "    \n",
    "    dt <- year + Week/53\n",
    "    \n",
    "    z <- aggregate(z, dt, mean)\n",
    "    \n",
    "    return(z)\n",
    "}"
   ]
  },
  {
   "cell_type": "markdown",
   "id": "c12edeb4-0a0b-4867-8ccd-32953ed73afe",
   "metadata": {},
   "source": [
    "## Perform Time Series Analysis to colombian cities"
   ]
  },
  {
   "cell_type": "code",
   "execution_count": 4,
   "id": "b2c38e63-7dfa-4b0c-b65e-c4b4680b733c",
   "metadata": {
    "tags": []
   },
   "outputs": [
    {
     "name": "stderr",
     "output_type": "stream",
     "text": [
      "Warning message in zoo(val_array, time_array):\n",
      "\"some methods for \"zoo\" objects do not work if the index entries in 'order.by' are not unique\"\n"
     ]
    }
   ],
   "source": [
    "TimeSeries <- list.files('output/TS')\n",
    "TimeSeries <- TimeSeries[1:(length(TimeSeries)-1)]\n",
    "\n",
    "for (i in TimeSeries){\n",
    "    ts <- read.csv(paste0('output/TS/', i))\n",
    "    \n",
    "    ts$Date <- as.Date(format(ts$Date, format = '%d'))\n",
    "    group_by(ts, Date)\n",
    "    \n",
    "    tspx <- timeser(unlist(ts$value), as.Date(ts$Date, \"%Y-%m-%d\"))\n",
    "    \n",
    "    breaks <- bfastlite(tspx, response ~ trend, breaks = 5, order = 2)\n",
    "    \n",
    "    first_br <- time(tspx[breaks$breakpoints$breakpoints[1]])[1]\n",
    "    \n",
    "    \n",
    "    png(paste0('output/',paste0(strsplit(i,'_')[[1]][1], strsplit(i,'_')[[1]][2]),'_trend.png'), height = 600, width = 1200)\n",
    "    \n",
    "    plot(breaks, main = paste0(strsplit(i,'_')[[1]][1], strsplit(i,'_')[[1]][2]), ylim = c(min(tspx), max(tspx)))\n",
    "        \n",
    "    start_col_lockdown <- 2020 + 03/12 + 25/ (30*12)\n",
    "    end_col_lockdown <- 2020+ 06/12 + 30/(30*12)\n",
    "    \n",
    "    rect(start_col_lockdown,min(tspx), end_col_lockdown, max(tspx), col = '#FF00001A', ylim = c(min(tspx), max(tspx)))\n",
    "    text((start_col_lockdown + end_col_lockdown)/2, max(tspx), 'LOCKDOWN', col = 'red')\n",
    "    \n",
    "    for (i in time(tspx[breaks$breakpoints$breakpoints])){\n",
    "        yr <- i - i %% c(2018, 2019, 2020, 2021, 2022)[ i %% c(2018, 2019, 2020, 2021, 2022) < 1]\n",
    "        month <- i %% c(2018, 2019, 2020, 2021, 2022)[ i %% c(2018, 2019, 2020, 2021, 2022) < 1]*12\n",
    "        text(i + 0.1, y  = max(tspx), paste(as.character(yr), '-', as.character(round(month, 0))), ylim = c(min(tspx), 1.1*max(tspx)))\n",
    "    }\n",
    "    dev.off()\n",
    "}"
   ]
  },
  {
   "cell_type": "code",
   "execution_count": null,
   "id": "ad45a05f-cdfb-4ae2-bffa-a5017d0c9055",
   "metadata": {},
   "outputs": [],
   "source": []
  }
 ],
 "metadata": {
  "kernelspec": {
   "display_name": "R",
   "language": "R",
   "name": "ir"
  },
  "language_info": {
   "codemirror_mode": "r",
   "file_extension": ".r",
   "mimetype": "text/x-r-source",
   "name": "R",
   "pygments_lexer": "r",
   "version": "4.2.1"
  }
 },
 "nbformat": 4,
 "nbformat_minor": 5
}
