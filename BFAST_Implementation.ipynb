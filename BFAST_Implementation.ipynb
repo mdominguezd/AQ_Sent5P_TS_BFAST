{
 "cells": [
  {
   "cell_type": "markdown",
   "id": "a1c6943e-8b9d-4e3f-a5dc-b8fef73e9bc8",
   "metadata": {
    "jupyter": {
     "outputs_hidden": true
    },
    "tags": []
   },
   "source": [
    "# BFAST Impleentation\n",
    "\n",
    "## Package installation "
   ]
  },
  {
   "cell_type": "code",
   "execution_count": 1,
   "id": "f9ddcde5-5c11-4147-be37-d32fff851bd8",
   "metadata": {
    "collapsed": true,
    "jupyter": {
     "outputs_hidden": true
    },
    "tags": []
   },
   "outputs": [
    {
     "name": "stderr",
     "output_type": "stream",
     "text": [
      "\n",
      "Attaching package: 'zoo'\n",
      "\n",
      "\n",
      "The following objects are masked from 'package:base':\n",
      "\n",
      "    as.Date, as.Date.numeric\n",
      "\n",
      "\n",
      "Warning message:\n",
      "\"package 'bfast' was built under R version 4.2.3\"\n",
      "Loading required package: strucchangeRcpp\n",
      "\n",
      "Warning message:\n",
      "\"package 'strucchangeRcpp' was built under R version 4.2.3\"\n",
      "Loading required package: sandwich\n",
      "\n",
      "Warning message:\n",
      "\"package 'sandwich' was built under R version 4.2.3\"\n",
      "Registered S3 method overwritten by 'quantmod':\n",
      "  method            from\n",
      "  as.zoo.data.frame zoo \n",
      "\n",
      "Warning message:\n",
      "\"package 'terra' was built under R version 4.2.3\"\n",
      "terra 1.7.23\n",
      "\n",
      "\n",
      "Attaching package: 'terra'\n",
      "\n",
      "\n",
      "The following object is masked from 'package:zoo':\n",
      "\n",
      "    time<-\n",
      "\n",
      "\n",
      "Warning message:\n",
      "\"package 'raster' was built under R version 4.2.2\"\n",
      "Loading required package: sp\n",
      "\n",
      "Warning message:\n",
      "\"package 'dplyr' was built under R version 4.2.2\"\n",
      "\n",
      "Attaching package: 'dplyr'\n",
      "\n",
      "\n",
      "The following objects are masked from 'package:raster':\n",
      "\n",
      "    intersect, select, union\n",
      "\n",
      "\n",
      "The following objects are masked from 'package:terra':\n",
      "\n",
      "    intersect, union\n",
      "\n",
      "\n",
      "The following objects are masked from 'package:stats':\n",
      "\n",
      "    filter, lag\n",
      "\n",
      "\n",
      "The following objects are masked from 'package:base':\n",
      "\n",
      "    intersect, setdiff, setequal, union\n",
      "\n",
      "\n"
     ]
    }
   ],
   "source": [
    "pkgTest <- function(x)\n",
    "{\n",
    "  if (x %in% rownames(installed.packages()) == FALSE) {\n",
    "    install.packages(x, dependencies= TRUE)\n",
    "  }\n",
    "  library(x, character.only = TRUE)\n",
    "}\n",
    "neededPackages <- c(\"zoo\", \"bfast\", \"terra\", \"raster\",\"dplyr\")\n",
    "for (package in neededPackages){pkgTest(package)}"
   ]
  },
  {
   "cell_type": "markdown",
   "id": "ffc29f3e-6b5f-4fa7-a740-4a0e8382b125",
   "metadata": {},
   "source": [
    "## Create function to read data as time series"
   ]
  },
  {
   "cell_type": "code",
   "execution_count": 3,
   "id": "cd93b32f-5e02-4ff9-b1ee-2ab1797e0be6",
   "metadata": {
    "tags": []
   },
   "outputs": [],
   "source": [
    "timeser <- function(val_array, time_array) {\n",
    "    \n",
    "    z <- zoo(val_array, time_array) # create zoo object\n",
    "    \n",
    "    year <- as.numeric(format(time(z), \"%Y\")) \n",
    "    Week <- as.numeric(format(time(z), \"%W\"))\n",
    "    \n",
    "    dt <- year + Week/53\n",
    "    \n",
    "    z <- aggregate(z, dt, mean)\n",
    "    \n",
    "    return(z)\n",
    "}"
   ]
  },
  {
   "cell_type": "markdown",
   "id": "c12edeb4-0a0b-4867-8ccd-32953ed73afe",
   "metadata": {},
   "source": [
    "## Perform Time Series Analysis to colombian cities"
   ]
  },
  {
   "cell_type": "code",
   "execution_count": 56,
   "id": "b2c38e63-7dfa-4b0c-b65e-c4b4680b733c",
   "metadata": {
    "tags": []
   },
   "outputs": [
    {
     "name": "stderr",
     "output_type": "stream",
     "text": [
      "Warning message in zoo(val_array, time_array):\n",
      "\"some methods for \"zoo\" objects do not work if the index entries in 'order.by' are not unique\"\n",
      "Warning message in zoo(val_array, time_array):\n",
      "\"some methods for \"zoo\" objects do not work if the index entries in 'order.by' are not unique\"\n"
     ]
    },
    {
     "ename": "ERROR",
     "evalue": "Error in breakpoints.matrix(X, y, h = h, breaks = breaks, hpc = hpc, ...): minimum segment size must be greater than the number of regressors\n",
     "output_type": "error",
     "traceback": [
      "Error in breakpoints.matrix(X, y, h = h, breaks = breaks, hpc = hpc, ...): minimum segment size must be greater than the number of regressors\nTraceback:\n",
      "1. bfastlite(tspx, response ~ trend + harmon, breaks = 5, order = 1)",
      "2. strucchangeRcpp::breakpoints(formula = formula, data = data_pp, \n .     breaks = breaks, ...)",
      "3. breakpoints.formula(formula = formula, data = data_pp, breaks = breaks, \n .     ...)",
      "4. breakpoints.matrix(X, y, h = h, breaks = breaks, hpc = hpc, ...)",
      "5. stop(\"minimum segment size must be greater than the number of regressors\")"
     ]
    }
   ],
   "source": [
    "TimeSeries <- list.files('output/TS')\n",
    "TimeSeries <- TimeSeries[1:(length(TimeSeries)-1)]\n",
    "\n",
    "for (i in TimeSeries){\n",
    "    \n",
    "    if (is.na(strsplit(i,'_')[[1]][4])){\n",
    "        ts <- read.csv(paste0('output/TS/', i))\n",
    "    \n",
    "        ts$Date <- as.Date(format(ts$Date, format = '%d'))\n",
    "        group_by(ts, Date)\n",
    "\n",
    "        tspx <- timeser(unlist(ts$value), as.Date(ts$Date, \"%Y-%m-%d\"))\n",
    "\n",
    "        breaks <- bfastlite(tspx, response ~ trend + harmon, breaks = 5, order = 2)\n",
    "\n",
    "        first_br <- time(tspx[breaks$breakpoints$breakpoints[1]])[1]\n",
    "\n",
    "\n",
    "        png(paste0('output/',paste0(strsplit(i,'_')[[1]][1], strsplit(i,'_')[[1]][2],'_full.png')), height = 600, width = 1200)\n",
    "\n",
    "        plot(breaks, main = paste0(strsplit(i,'_')[[1]][1], strsplit(i,'_')[[1]][2]), ylim = c(min(tspx), max(tspx)))\n",
    "\n",
    "        start_col_lockdown <- 2020 + 03/12 + 25/ (30*12)\n",
    "        end_col_lockdown <- 2020+ 06/12 + 30/(30*12)\n",
    "\n",
    "        rect(start_col_lockdown,min(tspx), end_col_lockdown, max(tspx), col = '#FF00001A', ylim = c(min(tspx), max(tspx)))\n",
    "        text((start_col_lockdown + end_col_lockdown)/2, max(tspx)*0.95, 'LOCKDOWN', col = 'red')\n",
    "\n",
    "        for (i in time(tspx[breaks$breakpoints$breakpoints])){\n",
    "            yr <- i - i %% c(2018, 2019, 2020, 2021, 2022)[ i %% c(2018, 2019, 2020, 2021, 2022) < 1]\n",
    "            month <- i %% c(2018, 2019, 2020, 2021, 2022)[ i %% c(2018, 2019, 2020, 2021, 2022) < 1]*12\n",
    "            text(i + 0.1, y  = max(tspx), paste(as.character(yr), '-', as.character(round(month, 0))), ylim = c(min(tspx), 1.1*max(tspx)))\n",
    "        }\n",
    "        dev.off()\n",
    "    } else {\n",
    "        ts <- read.csv(paste0('output/TS/', i))\n",
    "    \n",
    "        ts$Date <- as.Date(format(ts$Date, format = '%d'))\n",
    "        group_by(ts, Date)\n",
    "\n",
    "        tspx <- timeser(unlist(ts$value), as.Date(ts$Date, \"%Y-%m-%d\"))\n",
    "        \n",
    "        if (length(tspx) < 37){\n",
    "            breaks <- bfastlite(tspx, response ~ trend+ harmon, breaks = 5, order = 1)\n",
    "        } else {\n",
    "            breaks <- bfastlite(tspx, response ~ trend + harmon, breaks = 5, order = 2)\n",
    "        }\n",
    "\n",
    "        first_br <- time(tspx[breaks$breakpoints$breakpoints[1]])[1]\n",
    "\n",
    "\n",
    "        png(paste0('output/',paste0(strsplit(i,'_')[[1]][1], strsplit(i,'_')[[1]][2],strsplit(strsplit(i,'_')[[1]][4], '.c')[[1]][1],'_full.png')), height = 600, width = 1200)\n",
    "\n",
    "        plot(breaks, main = paste0(strsplit(i,'_')[[1]][1], strsplit(i,'_')[[1]][2]), ylim = c(min(tspx), max(tspx)))\n",
    "\n",
    "        start_col_lockdown <- 2020 + 03/12 + 25/ (30*12)\n",
    "        end_col_lockdown <- 2020+ 06/12 + 30/(30*12)\n",
    "\n",
    "        rect(start_col_lockdown,min(tspx), end_col_lockdown, max(tspx), col = '#FF00001A', ylim = c(min(tspx), max(tspx)))\n",
    "        text((start_col_lockdown + end_col_lockdown)/2, max(tspx)*0.95, 'LOCKDOWN', col = 'red')\n",
    "\n",
    "        for (i in time(tspx[breaks$breakpoints$breakpoints])){\n",
    "            yr <- i - i %% c(2018, 2019, 2020, 2021, 2022)[ i %% c(2018, 2019, 2020, 2021, 2022) < 1]\n",
    "            month <- i %% c(2018, 2019, 2020, 2021, 2022)[ i %% c(2018, 2019, 2020, 2021, 2022) < 1]*12\n",
    "            text(i + 0.03, y  = max(tspx), paste(as.character(yr), '-', as.character(round(month, 0))), ylim = c(min(tspx), 1.1*max(tspx)))\n",
    "        }\n",
    "        dev.off()\n",
    "    }\n",
    "               \n",
    "}"
   ]
  },
  {
   "cell_type": "code",
   "execution_count": null,
   "id": "8ccd3d73-a22f-4254-873a-5909146ccb8b",
   "metadata": {},
   "outputs": [],
   "source": []
  }
 ],
 "metadata": {
  "kernelspec": {
   "display_name": "R",
   "language": "R",
   "name": "ir"
  },
  "language_info": {
   "codemirror_mode": "r",
   "file_extension": ".r",
   "mimetype": "text/x-r-source",
   "name": "R",
   "pygments_lexer": "r",
   "version": "4.2.1"
  }
 },
 "nbformat": 4,
 "nbformat_minor": 5
}
